{
 "cells": [
  {
   "cell_type": "code",
   "execution_count": 1,
   "metadata": {},
   "outputs": [],
   "source": [
    "import pandas as pd\n",
    "import numpy as np\n",
    "import json\n",
    "import re"
   ]
  },
  {
   "cell_type": "code",
   "execution_count": 336,
   "metadata": {},
   "outputs": [],
   "source": [
    "sample = pd.read_excel('./csv_files/sample-pergntas.xlsx')[['body']]\n",
    "df = pd.read_excel('./csv_files/labeling.xlsx').drop('label',axis=1)"
   ]
  },
  {
   "cell_type": "markdown",
   "metadata": {},
   "source": [
    "# Color Questions"
   ]
  },
  {
   "cell_type": "code",
   "execution_count": 34,
   "metadata": {},
   "outputs": [],
   "source": [
    "colors_list = ['cor', 'azul','amarelo','vermelho','verde','rosa','cinza','roxo','preto','branco','marron','laranja','vermelho']"
   ]
  },
  {
   "cell_type": "code",
   "execution_count": 216,
   "metadata": {},
   "outputs": [],
   "source": [
    "colors_questions = []"
   ]
  },
  {
   "cell_type": "code",
   "execution_count": 218,
   "metadata": {},
   "outputs": [],
   "source": [
    "def check_colors(text):\n",
    "    text = str(text)\n",
    "    for word in text.split():\n",
    "        if word.lower() in colors_list and len(text)<70:\n",
    "            colors_questions.append(text)\n",
    "        \n",
    "    "
   ]
  },
  {
   "cell_type": "code",
   "execution_count": 219,
   "metadata": {},
   "outputs": [
    {
     "data": {
      "text/plain": [
       "0       None\n",
       "1       None\n",
       "2       None\n",
       "3       None\n",
       "4       None\n",
       "        ... \n",
       "2184    None\n",
       "2185    None\n",
       "2186    None\n",
       "2187    None\n",
       "2188    None\n",
       "Name: questions, Length: 2189, dtype: object"
      ]
     },
     "execution_count": 219,
     "metadata": {},
     "output_type": "execute_result"
    }
   ],
   "source": [
    "sample.body.apply(lambda x: check_colors(x))\n",
    "df.questions.apply(lambda x: check_colors(x))"
   ]
  },
  {
   "cell_type": "code",
   "execution_count": 326,
   "metadata": {},
   "outputs": [],
   "source": [
    "colors_series = pd.Series(colors_questions).drop_duplicates()"
   ]
  },
  {
   "cell_type": "markdown",
   "metadata": {},
   "source": [
    "# Price Questions"
   ]
  },
  {
   "cell_type": "code",
   "execution_count": 222,
   "metadata": {},
   "outputs": [],
   "source": [
    "price_list = ['valor','preço','custo','custa','gasto','caro','barato']\n",
    "price_questions = []"
   ]
  },
  {
   "cell_type": "code",
   "execution_count": 223,
   "metadata": {},
   "outputs": [],
   "source": [
    "def check_prices(text):\n",
    "    text = str(text)\n",
    "    for word in text.split():\n",
    "        if word.lower() in price_list and len(text)<70:\n",
    "            if (text.lower().find('frete')==-1) and (text.lower().find('envio')==-1):\n",
    "                price_questions.append(text)\n",
    "        \n",
    "    "
   ]
  },
  {
   "cell_type": "code",
   "execution_count": 224,
   "metadata": {},
   "outputs": [
    {
     "data": {
      "text/plain": [
       "0       None\n",
       "1       None\n",
       "2       None\n",
       "3       None\n",
       "4       None\n",
       "        ... \n",
       "2184    None\n",
       "2185    None\n",
       "2186    None\n",
       "2187    None\n",
       "2188    None\n",
       "Name: questions, Length: 2189, dtype: object"
      ]
     },
     "execution_count": 224,
     "metadata": {},
     "output_type": "execute_result"
    }
   ],
   "source": [
    "sample.body.apply(lambda x: check_prices(x))\n",
    "df.questions.apply(lambda x: check_prices(x))"
   ]
  },
  {
   "cell_type": "code",
   "execution_count": 328,
   "metadata": {},
   "outputs": [],
   "source": [
    "price_serie = pd.Series(price_questions).drop_duplicates()"
   ]
  },
  {
   "cell_type": "markdown",
   "metadata": {},
   "source": [
    "# Weight Questions"
   ]
  },
  {
   "cell_type": "code",
   "execution_count": 229,
   "metadata": {},
   "outputs": [],
   "source": [
    "weight_list = ['peso', 'quilos', 'kg', 'kilos','gramas', 'pesado', 'leve']\n",
    "weight_questions = []"
   ]
  },
  {
   "cell_type": "code",
   "execution_count": 230,
   "metadata": {},
   "outputs": [],
   "source": [
    "def check_weight(text):\n",
    "    text = str(text)\n",
    "    for word in text.split():\n",
    "        if word.lower() in weight_list and len(text)<70:\n",
    "            weight_questions.append(text)\n",
    "        \n",
    "    "
   ]
  },
  {
   "cell_type": "code",
   "execution_count": 231,
   "metadata": {},
   "outputs": [
    {
     "data": {
      "text/plain": [
       "0       None\n",
       "1       None\n",
       "2       None\n",
       "3       None\n",
       "4       None\n",
       "        ... \n",
       "2184    None\n",
       "2185    None\n",
       "2186    None\n",
       "2187    None\n",
       "2188    None\n",
       "Name: questions, Length: 2189, dtype: object"
      ]
     },
     "execution_count": 231,
     "metadata": {},
     "output_type": "execute_result"
    }
   ],
   "source": [
    "sample.body.apply(lambda x: check_weight(x))\n",
    "df.questions.apply(lambda x: check_weight(x))"
   ]
  },
  {
   "cell_type": "code",
   "execution_count": null,
   "metadata": {},
   "outputs": [],
   "source": [
    "weight_questions"
   ]
  },
  {
   "cell_type": "code",
   "execution_count": 233,
   "metadata": {},
   "outputs": [],
   "source": [
    "weight_series = pd.Series(weight_questions).drop_duplicates()"
   ]
  },
  {
   "cell_type": "markdown",
   "metadata": {},
   "source": [
    "# Size Questions"
   ]
  },
  {
   "cell_type": "code",
   "execution_count": 238,
   "metadata": {},
   "outputs": [],
   "source": [
    "size_list = ['tamanho', 'metros', 'centimetros', 'cm', 'm', 'pequeno','grande', 'largura','comprimento','diametro','largo']\n",
    "size_questions = []"
   ]
  },
  {
   "cell_type": "code",
   "execution_count": 239,
   "metadata": {},
   "outputs": [],
   "source": [
    "def check_size(text):\n",
    "    text = str(text)\n",
    "    for word in text.split():\n",
    "        if word.lower() in size_list and len(text)<70:\n",
    "            size_questions.append(text)\n",
    "        \n",
    "    "
   ]
  },
  {
   "cell_type": "code",
   "execution_count": 240,
   "metadata": {},
   "outputs": [
    {
     "data": {
      "text/plain": [
       "0       None\n",
       "1       None\n",
       "2       None\n",
       "3       None\n",
       "4       None\n",
       "        ... \n",
       "2184    None\n",
       "2185    None\n",
       "2186    None\n",
       "2187    None\n",
       "2188    None\n",
       "Name: questions, Length: 2189, dtype: object"
      ]
     },
     "execution_count": 240,
     "metadata": {},
     "output_type": "execute_result"
    }
   ],
   "source": [
    "sample.body.apply(lambda x: check_size(x))\n",
    "df.questions.apply(lambda x: check_size(x))"
   ]
  },
  {
   "cell_type": "code",
   "execution_count": null,
   "metadata": {},
   "outputs": [],
   "source": [
    "size_questions"
   ]
  },
  {
   "cell_type": "code",
   "execution_count": 242,
   "metadata": {},
   "outputs": [],
   "source": [
    "size_series = pd.Series(size_questions).drop_duplicates()"
   ]
  },
  {
   "cell_type": "markdown",
   "metadata": {},
   "source": [
    "# Payment Questions"
   ]
  },
  {
   "cell_type": "code",
   "execution_count": 255,
   "metadata": {},
   "outputs": [],
   "source": [
    "pay_list = ['cartão','boleto','picpay','pagar','pagamento','parcelar','fatura','credito']\n",
    "pay_questions = []"
   ]
  },
  {
   "cell_type": "code",
   "execution_count": 256,
   "metadata": {},
   "outputs": [],
   "source": [
    "def check_pay(text):\n",
    "    text = str(text)\n",
    "    for word in text.split():\n",
    "        if word.lower() in pay_list and len(text)<70:\n",
    "            pay_questions.append(text)\n",
    "        \n",
    "    "
   ]
  },
  {
   "cell_type": "code",
   "execution_count": 257,
   "metadata": {},
   "outputs": [
    {
     "data": {
      "text/plain": [
       "0       None\n",
       "1       None\n",
       "2       None\n",
       "3       None\n",
       "4       None\n",
       "        ... \n",
       "2184    None\n",
       "2185    None\n",
       "2186    None\n",
       "2187    None\n",
       "2188    None\n",
       "Name: questions, Length: 2189, dtype: object"
      ]
     },
     "execution_count": 257,
     "metadata": {},
     "output_type": "execute_result"
    }
   ],
   "source": [
    "sample.body.apply(lambda x: check_pay(x))\n",
    "df.questions.apply(lambda x: check_pay(x))"
   ]
  },
  {
   "cell_type": "code",
   "execution_count": null,
   "metadata": {},
   "outputs": [],
   "source": [
    "pay_questions"
   ]
  },
  {
   "cell_type": "code",
   "execution_count": 259,
   "metadata": {},
   "outputs": [],
   "source": [
    "pay_series = pd.Series(pay_questions).drop_duplicates()"
   ]
  },
  {
   "cell_type": "markdown",
   "metadata": {},
   "source": [
    "# Shipment questions"
   ]
  },
  {
   "cell_type": "code",
   "execution_count": 283,
   "metadata": {},
   "outputs": [],
   "source": [
    "ship_list = ['frete','cep','correios','sedex','transportadora','envio']\n",
    "ship_questios = []"
   ]
  },
  {
   "cell_type": "code",
   "execution_count": 284,
   "metadata": {},
   "outputs": [],
   "source": [
    "def check_ship(text):\n",
    "    text = str(text)\n",
    "    for word in text.split():\n",
    "        if word.lower() in ship_list and len(text)<70:\n",
    "            ship_questios.append(text)\n",
    "        \n",
    "    "
   ]
  },
  {
   "cell_type": "code",
   "execution_count": 285,
   "metadata": {},
   "outputs": [
    {
     "data": {
      "text/plain": [
       "0       None\n",
       "1       None\n",
       "2       None\n",
       "3       None\n",
       "4       None\n",
       "        ... \n",
       "2184    None\n",
       "2185    None\n",
       "2186    None\n",
       "2187    None\n",
       "2188    None\n",
       "Name: questions, Length: 2189, dtype: object"
      ]
     },
     "execution_count": 285,
     "metadata": {},
     "output_type": "execute_result"
    }
   ],
   "source": [
    "sample.body.apply(lambda x: check_ship(x))\n",
    "df.questions.apply(lambda x: check_ship(x))"
   ]
  },
  {
   "cell_type": "code",
   "execution_count": null,
   "metadata": {},
   "outputs": [],
   "source": [
    "ship_questions"
   ]
  },
  {
   "cell_type": "code",
   "execution_count": 287,
   "metadata": {},
   "outputs": [],
   "source": [
    "ship_series = pd.Series(ship_questios).drop_duplicates()"
   ]
  },
  {
   "cell_type": "markdown",
   "metadata": {},
   "source": [
    "# Disponibility Questions"
   ]
  },
  {
   "cell_type": "code",
   "execution_count": 343,
   "metadata": {},
   "outputs": [],
   "source": [
    "disp_list = ['estoque', 'disponivel', 'ainda tem', 'ainda tem?']\n",
    "disp_questions = []"
   ]
  },
  {
   "cell_type": "code",
   "execution_count": 344,
   "metadata": {},
   "outputs": [],
   "source": [
    "def check_disp(text):\n",
    "    text = str(text)\n",
    "    for word in text.split():\n",
    "        if word.lower() in disp_list and len(text)<70:\n",
    "            disp_questions.append(text)\n",
    "        \n",
    "    "
   ]
  },
  {
   "cell_type": "code",
   "execution_count": 345,
   "metadata": {},
   "outputs": [
    {
     "data": {
      "text/plain": [
       "0       None\n",
       "1       None\n",
       "2       None\n",
       "3       None\n",
       "4       None\n",
       "        ... \n",
       "2184    None\n",
       "2185    None\n",
       "2186    None\n",
       "2187    None\n",
       "2188    None\n",
       "Name: questions, Length: 2189, dtype: object"
      ]
     },
     "execution_count": 345,
     "metadata": {},
     "output_type": "execute_result"
    }
   ],
   "source": [
    "sample.body.apply(lambda x: check_disp(x))\n",
    "df.questions.apply(lambda x: check_disp(x))"
   ]
  },
  {
   "cell_type": "code",
   "execution_count": 346,
   "metadata": {},
   "outputs": [
    {
     "data": {
      "text/plain": [
       "['Disponivel',\n",
       " 'Disponivel a pronta entrega?',\n",
       " 'Este item  esta disponivel esta enviando normalmente',\n",
       " 'Tem disponivel',\n",
       " 'Tem ainda disponivel monzi']"
      ]
     },
     "execution_count": 346,
     "metadata": {},
     "output_type": "execute_result"
    }
   ],
   "source": [
    "disp_questions"
   ]
  },
  {
   "cell_type": "code",
   "execution_count": null,
   "metadata": {},
   "outputs": [],
   "source": []
  },
  {
   "cell_type": "markdown",
   "metadata": {},
   "source": [
    "# Converting all Data"
   ]
  },
  {
   "cell_type": "code",
   "execution_count": 288,
   "metadata": {},
   "outputs": [
    {
     "data": {
      "text/plain": [
       "0          O envio seria por qual loja? Corpo perfeito?\n",
       "1                  Quanto vc faz 3 para o CEP 72930000.\n",
       "2         Eu n sei meu cep mas se ajudar moro me Santos\n",
       "3     Faz as 10 frete grátis para 78075-905 que eu c...\n",
       "4                                Como usar frete gratis\n",
       "                            ...                        \n",
       "93                      Qual valor frete cep 08391-010?\n",
       "95    Boa tarde. Tem como fazer um kit com 12 unidad...\n",
       "96                          Pq o frete tá tão demorado?\n",
       "97      Frete e prazo de entrega para o cep: 28178-000?\n",
       "98                                      Que frete louco\n",
       "Length: 85, dtype: object"
      ]
     },
     "execution_count": 288,
     "metadata": {},
     "output_type": "execute_result"
    }
   ],
   "source": [
    "price_serie,\n",
    "colors_series,\n",
    "weight_series,\n",
    "size_series,\n",
    "pay_series,\n",
    "ship_series"
   ]
  },
  {
   "cell_type": "code",
   "execution_count": 298,
   "metadata": {},
   "outputs": [],
   "source": [
    "df = pd.DataFrame()"
   ]
  },
  {
   "cell_type": "code",
   "execution_count": 299,
   "metadata": {},
   "outputs": [],
   "source": [
    "df = pd.concat([price_serie,\n",
    "colors_series,\n",
    "weight_series,\n",
    "size_series,\n",
    "pay_series,\n",
    "ship_series],axis=1)"
   ]
  },
  {
   "cell_type": "code",
   "execution_count": 301,
   "metadata": {},
   "outputs": [],
   "source": [
    "df.columns = ['valor','cor','peso','tamanho','pagamento','frete']"
   ]
  },
  {
   "cell_type": "code",
   "execution_count": 350,
   "metadata": {},
   "outputs": [],
   "source": [
    "prices = price_serie.to_list()\n",
    "colors = colors_series.to_list()\n",
    "sizes = size_series.to_list()\n",
    "weights = weight_series.to_list()\n",
    "payments = pay_series.to_list()\n",
    "shipments = ship_series.to_list()"
   ]
  },
  {
   "cell_type": "code",
   "execution_count": 320,
   "metadata": {},
   "outputs": [],
   "source": [
    "df.to_json('./json_files/intents.json')"
   ]
  },
  {
   "cell_type": "code",
   "execution_count": 352,
   "metadata": {},
   "outputs": [],
   "source": [
    "output = {\"intents\": [\n",
    "    \n",
    "        {\"tag\": \"valor\",\n",
    "         \"patterns\": [\"Quanto fica?\", \"Qual valor?\", \"Quanto custa?\", \"Qual preço?\", \"Fica caro?\", \"Fica caro?\"] + prices,\n",
    "         \"responses\": [\"valor\"],\n",
    "         \"context_set\": \"\"\n",
    "        },\n",
    "        {\"tag\": \"tamanho\",\n",
    "         \"patterns\": [\"Qual tamanho?\", \"Quantos metros?\", \"Qual dimensão\", \"É muito grande?\", \"É muito pequeno?\", \"Quanto mede?\", \"Qual a largura?\", \"Qual o comprimento?\", \"Qual o diametro?\", \"Quantos centimetros\", \"Quantos metros\", \n",
    "            \"é largo\", \"é alto\"] + sizes,\n",
    "         \"responses\": [\"tamanho\"]\n",
    "        },\n",
    "        {\"tag\": \"peso\",\n",
    "         \"patterns\": [\"Pesa muito?\", \"Tem quantos quilos?\", \"Muitos kilos?\", \"É muito leve?\", \"É muito pesado?\"] + weights,\n",
    "         \"responses\": [\"peso\"]\n",
    "        },\n",
    "        {\"tag\": \"cor\",\n",
    "         \"patterns\": [\"Tem que cores?\", \"Tem vermelho?\", \"Tem azul?\", \"Tem rosa?\", \"Tem cinza?\", \"Tem amarelo?\", \"Tem verde?\", \"cores\" ] + colors,\n",
    "         \"responses\": [\"cor\"]\n",
    "        },\n",
    "        {\"tag\": \"pagamento\",\n",
    "         \"patterns\": [\"Pode ser no cartão?\", \"Tem boleto?\", \"Da para pagar pelo picpay?\", \"Como posso pagar?\", \"Da pra parcelar?\"] + payments,\n",
    "         \"responses\": [\"pagamento\"]\n",
    "        },\n",
    "        {\"tag\": \"estoque\",\n",
    "         \"patterns\": [\"Quantos tem?\", \"Tem muitos ainda?\", \"Têm mais no estoque?\", \"Vão ter mais a venda?\", \"Consigo encomendar mais?\", \"vai faltar?\", \"quero comprar 2\", \"quero comprar\"] + disp_questions,\n",
    "         \"responses\": [\"estoque\"]\n",
    "        },\n",
    "        {\"tag\": \"frete\",\n",
    "         \"patterns\": ['Quantos dias de frete para o CEP 9874005999', 'O frete sai quanto para o endereço'] + shipments,\n",
    "         \"responses\": [\"frete\"]\n",
    "        }\n",
    "   ]\n",
    "}\n"
   ]
  },
  {
   "cell_type": "code",
   "execution_count": 353,
   "metadata": {},
   "outputs": [],
   "source": [
    "with open('./json_files/intents.json', 'w+') as out:\n",
    "    out.write(json.dumps(output, indent=4))"
   ]
  },
  {
   "cell_type": "code",
   "execution_count": null,
   "metadata": {},
   "outputs": [],
   "source": []
  }
 ],
 "metadata": {
  "kernelspec": {
   "display_name": "Python 3",
   "language": "python",
   "name": "python3"
  },
  "language_info": {
   "codemirror_mode": {
    "name": "ipython",
    "version": 3
   },
   "file_extension": ".py",
   "mimetype": "text/x-python",
   "name": "python",
   "nbconvert_exporter": "python",
   "pygments_lexer": "ipython3",
   "version": "3.6.9"
  }
 },
 "nbformat": 4,
 "nbformat_minor": 4
}
