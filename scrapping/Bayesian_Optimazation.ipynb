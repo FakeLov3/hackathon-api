{
 "cells": [
  {
   "cell_type": "code",
   "execution_count": 90,
   "metadata": {},
   "outputs": [],
   "source": [
    "from sklearn.linear_model import LogisticRegression\n",
    "from sklearn.ensemble import RandomForestClassifier\n",
    "from sklearn.pipeline import make_pipeline\n",
    "from sklearn.preprocessing import MaxAbsScaler, StandardScaler\n",
    "import numpy as np\n",
    "import pandas as pd\n",
    "import scipy\n",
    "from skopt import forest_minimize\n",
    "import pandas as pd\n",
    "from sklearn.feature_extraction.text import TfidfVectorizer\n",
    "from sklearn.model_selection import train_test_split\n",
    "from sklearn.metrics import roc_auc_score, average_precision_score, precision_score, f1_score, accuracy_score, recall_score\n",
    "from scipy.sparse import hstack\n",
    "from lightgbm import LGBMClassifier"
   ]
  },
  {
   "cell_type": "code",
   "execution_count": 3,
   "metadata": {},
   "outputs": [],
   "source": [
    "Xtrain = scipy.sparse.load_npz('./npz/features_questions_train.npz')\n",
    "Xval = scipy.sparse.load_npz('./npz/features_questions_val.npz')"
   ]
  },
  {
   "cell_type": "code",
   "execution_count": 73,
   "metadata": {},
   "outputs": [],
   "source": [
    "features = pd.read_csv('./csv_files/featuresDF_cleaned.csv',index_col=0).dropna()\n",
    "target = features.target"
   ]
  },
  {
   "cell_type": "code",
   "execution_count": 74,
   "metadata": {},
   "outputs": [],
   "source": [
    "features.drop(['answers_cleaned', 'question_len', 'desc_cleaned','target'], axis=1, inplace=True)"
   ]
  },
  {
   "cell_type": "code",
   "execution_count": 75,
   "metadata": {},
   "outputs": [
    {
     "data": {
      "text/html": [
       "<div>\n",
       "<style scoped>\n",
       "    .dataframe tbody tr th:only-of-type {\n",
       "        vertical-align: middle;\n",
       "    }\n",
       "\n",
       "    .dataframe tbody tr th {\n",
       "        vertical-align: top;\n",
       "    }\n",
       "\n",
       "    .dataframe thead th {\n",
       "        text-align: right;\n",
       "    }\n",
       "</style>\n",
       "<table border=\"1\" class=\"dataframe\">\n",
       "  <thead>\n",
       "    <tr style=\"text-align: right;\">\n",
       "      <th></th>\n",
       "      <th>product_id</th>\n",
       "      <th>questions_cleaned</th>\n",
       "      <th>questions_cleaned_len</th>\n",
       "    </tr>\n",
       "  </thead>\n",
       "  <tbody>\n",
       "    <tr>\n",
       "      <th>0</th>\n",
       "      <td>0</td>\n",
       "      <td>som alto</td>\n",
       "      <td>8</td>\n",
       "    </tr>\n",
       "    <tr>\n",
       "      <th>1</th>\n",
       "      <td>0</td>\n",
       "      <td>entrada auxiliar</td>\n",
       "      <td>16</td>\n",
       "    </tr>\n",
       "    <tr>\n",
       "      <th>2</th>\n",
       "      <td>0</td>\n",
       "      <td>caixinha entrada auxiliar</td>\n",
       "      <td>25</td>\n",
       "    </tr>\n",
       "    <tr>\n",
       "      <th>3</th>\n",
       "      <td>0</td>\n",
       "      <td>boa tarde autonomia bateria</td>\n",
       "      <td>27</td>\n",
       "    </tr>\n",
       "    <tr>\n",
       "      <th>4</th>\n",
       "      <td>0</td>\n",
       "      <td>boa noite caixa carregando pode escutar música</td>\n",
       "      <td>46</td>\n",
       "    </tr>\n",
       "    <tr>\n",
       "      <th>...</th>\n",
       "      <td>...</td>\n",
       "      <td>...</td>\n",
       "      <td>...</td>\n",
       "    </tr>\n",
       "    <tr>\n",
       "      <th>913</th>\n",
       "      <td>176</td>\n",
       "      <td>conecta tbm ps</td>\n",
       "      <td>14</td>\n",
       "    </tr>\n",
       "    <tr>\n",
       "      <th>914</th>\n",
       "      <td>178</td>\n",
       "      <td>android quanto</td>\n",
       "      <td>14</td>\n",
       "    </tr>\n",
       "    <tr>\n",
       "      <th>915</th>\n",
       "      <td>178</td>\n",
       "      <td>suporta carta memória gb</td>\n",
       "      <td>24</td>\n",
       "    </tr>\n",
       "    <tr>\n",
       "      <th>916</th>\n",
       "      <td>179</td>\n",
       "      <td>normal saida ar boracos mascara furos</td>\n",
       "      <td>37</td>\n",
       "    </tr>\n",
       "    <tr>\n",
       "      <th>917</th>\n",
       "      <td>185</td>\n",
       "      <td>serve xbox one</td>\n",
       "      <td>14</td>\n",
       "    </tr>\n",
       "  </tbody>\n",
       "</table>\n",
       "<p>895 rows × 3 columns</p>\n",
       "</div>"
      ],
      "text/plain": [
       "     product_id                               questions_cleaned  \\\n",
       "0             0                                        som alto   \n",
       "1             0                                entrada auxiliar   \n",
       "2             0                       caixinha entrada auxiliar   \n",
       "3             0                     boa tarde autonomia bateria   \n",
       "4             0  boa noite caixa carregando pode escutar música   \n",
       "..          ...                                             ...   \n",
       "913         176                                  conecta tbm ps   \n",
       "914         178                                  android quanto   \n",
       "915         178                        suporta carta memória gb   \n",
       "916         179           normal saida ar boracos mascara furos   \n",
       "917         185                                  serve xbox one   \n",
       "\n",
       "     questions_cleaned_len  \n",
       "0                        8  \n",
       "1                       16  \n",
       "2                       25  \n",
       "3                       27  \n",
       "4                       46  \n",
       "..                     ...  \n",
       "913                     14  \n",
       "914                     14  \n",
       "915                     24  \n",
       "916                     37  \n",
       "917                     14  \n",
       "\n",
       "[895 rows x 3 columns]"
      ]
     },
     "execution_count": 75,
     "metadata": {},
     "output_type": "execute_result"
    }
   ],
   "source": [
    "features"
   ]
  },
  {
   "cell_type": "code",
   "execution_count": 76,
   "metadata": {},
   "outputs": [],
   "source": [
    "Xtrain, Xval, ytrain, yval =  train_test_split(features, target,random_state=0, test_size=0.4)"
   ]
  },
  {
   "cell_type": "code",
   "execution_count": 77,
   "metadata": {},
   "outputs": [],
   "source": [
    "train_strings = Xtrain.questions_cleaned\n",
    "val_strings = Xval.questions_cleaned"
   ]
  },
  {
   "cell_type": "code",
   "execution_count": 80,
   "metadata": {},
   "outputs": [],
   "source": [
    "train_numbers = Xtrain.drop('questions_cleaned', axis=1)\n",
    "val_numbers = Xval.drop('questions_cleaned',axis=1)"
   ]
  },
  {
   "cell_type": "markdown",
   "metadata": {},
   "source": [
    "# 1.0 - LGBM"
   ]
  },
  {
   "cell_type": "code",
   "execution_count": 391,
   "metadata": {},
   "outputs": [],
   "source": [
    "def tune_lgbm(args):\n",
    "    ## Lgbm parametres\n",
    "    lr = args[0]\n",
    "    max_depth = args[1]\n",
    "    min_child_samples = args[2]\n",
    "    subsample = args[3]\n",
    "    colsample_bytree = args[4]\n",
    "    n_estimators = args[5]\n",
    "    \n",
    "    ## Tfidf parameters\n",
    "    min_df = args[6]\n",
    "    ngram_range = (1, args[7])\n",
    "    \n",
    "    vectorizer = TfidfVectorizer(min_df=min_df, ngram_range=ngram_range)\n",
    "    questions_bow_train = vectorizer.fit_transform(train_strings)\n",
    "    questions_bow_val = vectorizer.transform(val_strings)\n",
    "    \n",
    "    #Xtrain_stack = hstack([train_numbers, questions_bow_train])\n",
    "    #Xval_stack = hstack([val_numbers, questions_bow_val])\n",
    "    \n",
    "    mdl = LGBMClassifier(learning_rate=lr, num_leaves=2 ** max_depth, max_depth=max_depth,\n",
    "                        min_child_samples=min_child_samples, subsample=subsample,\n",
    "                        colsample_bytree=colsample_bytree, bagging_freq=1, n_estimators=n_estimators,\n",
    "                        random_state=0, class_weight='balanced', n_jobs=6)\n",
    "    \n",
    "    mdl.fit(questions_bow_train, ytrain)\n",
    "    \n",
    "    p = mdl.predict(questions_bow_val)\n",
    "    proba = mdl.predict_proba(questions_bow_val)[:,1]\n",
    "    \n",
    "    print(roc_auc_score(yval,proba))\n",
    "    \n",
    "    return -average_precision_score(yval, proba)\n",
    "    "
   ]
  },
  {
   "cell_type": "code",
   "execution_count": 392,
   "metadata": {},
   "outputs": [],
   "source": [
    "space = [(1e-3, 1e-1, 'log-uniform'), # lr\n",
    "          (1, 10), # max_depth\n",
    "          (1, 20), # min_child_samples\n",
    "          (0.05, 1.), # subsample\n",
    "          (0.05, 1.), # colsample_bytree\n",
    "          (100,1000), # n_estimators\n",
    "          (1,5), # min_df\n",
    "          (1,5)] # ngram_range"
   ]
  },
  {
   "cell_type": "code",
   "execution_count": null,
   "metadata": {},
   "outputs": [],
   "source": [
    "res = forest_minimize(tune_lgbm, space, random_state=160745, n_random_starts=20, n_calls=50, verbose=1)"
   ]
  },
  {
   "cell_type": "code",
   "execution_count": 394,
   "metadata": {},
   "outputs": [],
   "source": [
    "parameters = res.x"
   ]
  },
  {
   "cell_type": "code",
   "execution_count": 395,
   "metadata": {},
   "outputs": [
    {
     "data": {
      "text/plain": [
       "[0.021265933990205252,\n",
       " 6,\n",
       " 3,\n",
       " 0.3247384439428554,\n",
       " 0.13034845542275114,\n",
       " 505,\n",
       " 4,\n",
       " 1]"
      ]
     },
     "execution_count": 395,
     "metadata": {},
     "output_type": "execute_result"
    }
   ],
   "source": [
    "parameters"
   ]
  },
  {
   "cell_type": "code",
   "execution_count": 402,
   "metadata": {},
   "outputs": [],
   "source": [
    "# Best parameters\n",
    "lr = parameters[0]\n",
    "max_depth = parameters[1]\n",
    "min_child_samples = parameters[2]\n",
    "subsample = parameters[3]\n",
    "colsample_bytree = parameters[4]\n",
    "n_estimators = parameters[5]\n",
    "\n",
    "## Tfidf parameters\n",
    "min_df = parameters[6]\n",
    "ngram_range = (1, parameters[7])\n",
    "\n",
    "vectorizer = TfidfVectorizer(min_df=min_df, ngram_range=ngram_range)\n",
    "questions_bow_train = vectorizer.fit_transform(train_strings)\n",
    "questions_bow_val = vectorizer.transform(val_strings)\n",
    "\n",
    "#Xtrain_stack = hstack([train_numbers, questions_bow_train])\n",
    "#Xval_stack = hstack([val_numbers, questions_bow_val])\n",
    "\n",
    "mdl = LGBMClassifier(learning_rate=lr, num_leaves=2 ** max_depth, max_depth=max_depth,\n",
    "                    min_child_samples=min_child_samples, subsample=subsample,\n",
    "                    colsample_bytree=colsample_bytree, bagging_freq=1, n_estimators=n_estimators,\n",
    "                    random_state=0, class_weight='balanced', n_jobs=6)\n",
    "    \n",
    "mdl.fit(questions_bow_train, ytrain)\n",
    "\n",
    "p_lgbm = mdl.predict(questions_bow_val)\n",
    "proba_lgbm = mdl.predict_proba(questions_bow_val)[:,1]"
   ]
  },
  {
   "cell_type": "code",
   "execution_count": 403,
   "metadata": {},
   "outputs": [],
   "source": [
    "from sklearn.metrics import classification_report, precision_score, accuracy_score, f1_score, recall_score, confusion_matrix, roc_auc_score, average_precision_score"
   ]
  },
  {
   "cell_type": "code",
   "execution_count": 404,
   "metadata": {},
   "outputs": [
    {
     "name": "stdout",
     "output_type": "stream",
     "text": [
      "              precision    recall  f1-score   support\n",
      "\n",
      "         0.0       0.69      0.80      0.74       172\n",
      "         1.0       0.78      0.67      0.72       186\n",
      "\n",
      "    accuracy                           0.73       358\n",
      "   macro avg       0.74      0.73      0.73       358\n",
      "weighted avg       0.74      0.73      0.73       358\n",
      "\n"
     ]
    }
   ],
   "source": [
    "print(classification_report(yval, p_lgbm))"
   ]
  },
  {
   "cell_type": "code",
   "execution_count": 405,
   "metadata": {},
   "outputs": [
    {
     "data": {
      "text/plain": [
       "(0.7883377094273568, 0.7847519333889489)"
      ]
     },
     "execution_count": 405,
     "metadata": {},
     "output_type": "execute_result"
    }
   ],
   "source": [
    "roc_auc_score(yval,proba_lgbm), average_precision_score(yval,proba_lgbm)"
   ]
  },
  {
   "cell_type": "code",
   "execution_count": 409,
   "metadata": {},
   "outputs": [
    {
     "name": "stdout",
     "output_type": "stream",
     "text": [
      "Precision: 0.78125\n",
      "\n",
      "Recall: 0.6720430107526881\n",
      "\n",
      "F1-score: 0.7225433526011561\n",
      "\n",
      "Accuracy: 0.7318435754189944\n",
      "\n",
      "Roc Auc: 0.7883377094273568\n",
      "\n",
      "AP: 0.7847519333889489\n"
     ]
    }
   ],
   "source": [
    "print('Precision:',precision_score(yval, p_lgbm))\n",
    "print()\n",
    "print('Recall:', recall_score(yval, p_lgbm))\n",
    "print()\n",
    "print('F1-score:', f1_score(yval,p_lgbm))\n",
    "print()\n",
    "print('Accuracy:', accuracy_score(yval, p_lgbm))\n",
    "print()\n",
    "print('Roc Auc:', roc_auc_score(yval,proba_lgbm))\n",
    "print()\n",
    "print('AP:', average_precision_score(yval,proba_lgbm))"
   ]
  },
  {
   "cell_type": "markdown",
   "metadata": {},
   "source": [
    "**baseline**  \n",
    "(0.7296137339055794, 0.8854166666666666, 0.8, 0.7690217391304348, 0.8421075994318181, 0.8410357590877169)"
   ]
  },
  {
   "cell_type": "markdown",
   "metadata": {},
   "source": [
    "# 2.0 - Random Forest"
   ]
  },
  {
   "cell_type": "code",
   "execution_count": 283,
   "metadata": {},
   "outputs": [],
   "source": [
    "vectorizer_rf = TfidfVectorizer(min_df=3, ngram_range=(1,3))\n",
    "questions_bow_train_rf = vectorizer_rf.fit_transform(train_strings)\n",
    "questions_bow_val_rf = vectorizer_rf.transform(val_strings)"
   ]
  },
  {
   "cell_type": "code",
   "execution_count": 284,
   "metadata": {},
   "outputs": [],
   "source": [
    "Xtrain_stack_rf = hstack([train_numbers, questions_bow_train_rf])\n",
    "Xval_stack_rf = hstack([val_numbers, questions_bow_val_rf])"
   ]
  },
  {
   "cell_type": "code",
   "execution_count": 411,
   "metadata": {},
   "outputs": [
    {
     "data": {
      "text/plain": [
       "RandomForestClassifier(bootstrap=True, ccp_alpha=0.0, class_weight='balanced',\n",
       "                       criterion='gini', max_depth=None, max_features='auto',\n",
       "                       max_leaf_nodes=None, max_samples=None,\n",
       "                       min_impurity_decrease=0.0, min_impurity_split=None,\n",
       "                       min_samples_leaf=1, min_samples_split=2,\n",
       "                       min_weight_fraction_leaf=0.0, n_estimators=1000,\n",
       "                       n_jobs=None, oob_score=False, random_state=0, verbose=0,\n",
       "                       warm_start=False)"
      ]
     },
     "execution_count": 411,
     "metadata": {},
     "output_type": "execute_result"
    }
   ],
   "source": [
    "mdl_rf =RandomForestClassifier(n_estimators=1000,random_state=0, min_samples_leaf=1, class_weight='balanced')\n",
    "mdl_rf.fit(questions_bow_train_rf, ytrain)"
   ]
  },
  {
   "cell_type": "code",
   "execution_count": 412,
   "metadata": {},
   "outputs": [],
   "source": [
    "p_rf = mdl_rf.predict(questions_bow_val_rf)\n",
    "proba_rf = mdl_rf.predict_proba(questions_bow_val_rf)[:,1]"
   ]
  },
  {
   "cell_type": "code",
   "execution_count": 413,
   "metadata": {},
   "outputs": [
    {
     "name": "stdout",
     "output_type": "stream",
     "text": [
      "Precision: 0.7446808510638298\n",
      "\n",
      "Recall: 0.7526881720430108\n",
      "\n",
      "F1-score: 0.7486631016042781\n",
      "\n",
      "Accuracy: 0.7374301675977654\n",
      "\n",
      "Roc Auc: 0.7929638659664916\n",
      "\n",
      "AP: 0.7802916631894881\n"
     ]
    }
   ],
   "source": [
    "print('Precision:',precision_score(yval, p_rf))\n",
    "print()\n",
    "print('Recall:', recall_score(yval, p_rf))\n",
    "print()\n",
    "print('F1-score:', f1_score(yval,p_rf))\n",
    "print()\n",
    "print('Accuracy:', accuracy_score(yval, p_rf))\n",
    "print()\n",
    "print('Roc Auc:', roc_auc_score(yval,proba_rf))\n",
    "print()\n",
    "print('AP:', average_precision_score(yval,proba_rf))"
   ]
  },
  {
   "cell_type": "markdown",
   "metadata": {},
   "source": [
    "# 3.0 - Ensemble"
   ]
  },
  {
   "cell_type": "code",
   "execution_count": 414,
   "metadata": {},
   "outputs": [
    {
     "data": {
      "text/html": [
       "<div>\n",
       "<style scoped>\n",
       "    .dataframe tbody tr th:only-of-type {\n",
       "        vertical-align: middle;\n",
       "    }\n",
       "\n",
       "    .dataframe tbody tr th {\n",
       "        vertical-align: top;\n",
       "    }\n",
       "\n",
       "    .dataframe thead th {\n",
       "        text-align: right;\n",
       "    }\n",
       "</style>\n",
       "<table border=\"1\" class=\"dataframe\">\n",
       "  <thead>\n",
       "    <tr style=\"text-align: right;\">\n",
       "      <th></th>\n",
       "      <th>rf</th>\n",
       "      <th>lgbm</th>\n",
       "    </tr>\n",
       "  </thead>\n",
       "  <tbody>\n",
       "    <tr>\n",
       "      <th>rf</th>\n",
       "      <td>1.000000</td>\n",
       "      <td>0.800146</td>\n",
       "    </tr>\n",
       "    <tr>\n",
       "      <th>lgbm</th>\n",
       "      <td>0.800146</td>\n",
       "      <td>1.000000</td>\n",
       "    </tr>\n",
       "  </tbody>\n",
       "</table>\n",
       "</div>"
      ],
      "text/plain": [
       "            rf      lgbm\n",
       "rf    1.000000  0.800146\n",
       "lgbm  0.800146  1.000000"
      ]
     },
     "execution_count": 414,
     "metadata": {},
     "output_type": "execute_result"
    }
   ],
   "source": [
    "pd.DataFrame({'rf': proba_rf, 'lgbm': proba_lgbm}).corr()"
   ]
  },
  {
   "cell_type": "code",
   "execution_count": 421,
   "metadata": {},
   "outputs": [
    {
     "name": "stdout",
     "output_type": "stream",
     "text": [
      "Roc Auc: 0.807248687171793\n",
      "\n",
      "AP: 0.7933316193146969\n"
     ]
    }
   ],
   "source": [
    "proba = 0.5*proba_lgbm + proba_rf*0.5\n",
    "print('Roc Auc:', roc_auc_score(yval,proba))\n",
    "print()\n",
    "print('AP:', average_precision_score(yval,proba))"
   ]
  },
  {
   "cell_type": "code",
   "execution_count": null,
   "metadata": {},
   "outputs": [],
   "source": [
    "LGBM\n",
    "Roc Auc: 0.8434921230307577\n",
    "AP: 0.8541532320183226\n",
    "    \n",
    "RF\n",
    "Roc Auc: 0.8484308577144286\n",
    "AP: 0.8273176969188567"
   ]
  },
  {
   "cell_type": "code",
   "execution_count": 422,
   "metadata": {},
   "outputs": [],
   "source": [
    "# Will not use the ensemble?\n",
    "# modelo estranho, metricas razoaveis e respostas estranhas"
   ]
  },
  {
   "cell_type": "markdown",
   "metadata": {},
   "source": [
    "# 4.0 - Little Tests"
   ]
  },
  {
   "cell_type": "code",
   "execution_count": 370,
   "metadata": {},
   "outputs": [],
   "source": [
    "import string\n",
    "from nltk.corpus import stopwords\n",
    "from string import punctuation\n",
    "import re"
   ]
  },
  {
   "cell_type": "code",
   "execution_count": 368,
   "metadata": {},
   "outputs": [],
   "source": [
    "def remove_punct(text):\n",
    "    text = str(text)\n",
    "    text  = \"\".join([char for char in text if char not in string.punctuation])\n",
    "    text = re.sub('[0-9]+', ' ', text)\n",
    "    \n",
    "    return text.lower()\n",
    "\n",
    "def remove_stops(text):\n",
    "    clean = [word for word in text.split() if word.lower() not in stopwords.words('portuguese')]\n",
    "    return ' '.join(clean)"
   ]
  },
  {
   "cell_type": "code",
   "execution_count": 390,
   "metadata": {},
   "outputs": [
    {
     "name": "stdin",
     "output_type": "stream",
     "text": [
      "  Se eu comprar 10 peças o frete sai gratis?\n"
     ]
    },
    {
     "name": "stdout",
     "output_type": "stream",
     "text": [
      "Previsão para a pergunta:  0\n",
      "Probabilidade:  [[0.8110941 0.1889059]]\n"
     ]
    },
    {
     "name": "stderr",
     "output_type": "stream",
     "text": [
      "/home/vinicius/Área de Trabalho/venvs/jupyter/lib/python3.6/site-packages/lightgbm/basic.py:546: UserWarning: Converting data to scipy sparse matrix.\n",
      "  warnings.warn('Converting data to scipy sparse matrix.')\n"
     ]
    }
   ],
   "source": [
    "x = [input()]\n",
    "\n",
    "text_clean = [remove_stops(remove_punct(x))]\n",
    "\n",
    "dict_info = {\n",
    "    'product_id':[100],\n",
    "    'question_cleaned_len': len(text_clean),\n",
    "}\n",
    "\n",
    "numbers = pd.DataFrame(dict_info)\n",
    "\n",
    "x_vec = vectorizer.transform(text_clean)\n",
    "stack = hstack([numbers, x_vec])\n",
    "\n",
    "p = mdl.predict(stack)\n",
    "proba = mdl.predict_proba(stack)\n",
    "\n",
    "print('Previsão para a pergunta: ', int(p[0]))\n",
    "print('Probabilidade: ', proba)"
   ]
  },
  {
   "cell_type": "code",
   "execution_count": null,
   "metadata": {},
   "outputs": [],
   "source": []
  },
  {
   "cell_type": "code",
   "execution_count": 427,
   "metadata": {},
   "outputs": [
    {
     "name": "stdin",
     "output_type": "stream",
     "text": [
      " Esse aparelho funciona no modelo 12345\n"
     ]
    },
    {
     "name": "stdout",
     "output_type": "stream",
     "text": [
      "Previsão para a pergunta:  1\n"
     ]
    }
   ],
   "source": [
    "x = [input()]\n",
    "x_vec = vectorizer.transform(x)\n",
    "p = mdl.predict(x_vec)\n",
    "\n",
    "print('Previsão para a pergunta: ', int(p[0]))"
   ]
  },
  {
   "cell_type": "code",
   "execution_count": null,
   "metadata": {},
   "outputs": [],
   "source": []
  }
 ],
 "metadata": {
  "kernelspec": {
   "display_name": "Python 3",
   "language": "python",
   "name": "python3"
  },
  "language_info": {
   "codemirror_mode": {
    "name": "ipython",
    "version": 3
   },
   "file_extension": ".py",
   "mimetype": "text/x-python",
   "name": "python",
   "nbconvert_exporter": "python",
   "pygments_lexer": "ipython3",
   "version": "3.6.9"
  }
 },
 "nbformat": 4,
 "nbformat_minor": 4
}
