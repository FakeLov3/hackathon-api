{
 "cells": [
  {
   "cell_type": "code",
   "execution_count": 85,
   "metadata": {},
   "outputs": [],
   "source": [
    "import pandas as pd\n",
    "import numpy as np\n",
    "import matplotlib.pyplot as plt\n",
    "import seaborn as sns"
   ]
  },
  {
   "cell_type": "code",
   "execution_count": 79,
   "metadata": {},
   "outputs": [],
   "source": [
    "df_all = pd.read_excel(\"./csv_files/labeling.xlsx\")\n",
    "df_active = pd.read_excel(\"./csv_files/active_labels1.xlsx\", index_col=0)\n",
    "df_sample = pd.read_excel(\"./csv_files/sample-pergntas.xlsx\")"
   ]
  },
  {
   "cell_type": "code",
   "execution_count": 11,
   "metadata": {},
   "outputs": [],
   "source": [
    "df_labeled = pd.DataFrame(index=df_all.index)"
   ]
  },
  {
   "cell_type": "code",
   "execution_count": 27,
   "metadata": {},
   "outputs": [
    {
     "data": {
      "text/html": [
       "<div>\n",
       "<style scoped>\n",
       "    .dataframe tbody tr th:only-of-type {\n",
       "        vertical-align: middle;\n",
       "    }\n",
       "\n",
       "    .dataframe tbody tr th {\n",
       "        vertical-align: top;\n",
       "    }\n",
       "\n",
       "    .dataframe thead th {\n",
       "        text-align: right;\n",
       "    }\n",
       "</style>\n",
       "<table border=\"1\" class=\"dataframe\">\n",
       "  <thead>\n",
       "    <tr style=\"text-align: right;\">\n",
       "      <th></th>\n",
       "      <th>questions</th>\n",
       "      <th>label</th>\n",
       "      <th>p</th>\n",
       "    </tr>\n",
       "  </thead>\n",
       "  <tbody>\n",
       "    <tr>\n",
       "      <th>671</th>\n",
       "      <td>Serve para Camiseta Adulto?</td>\n",
       "      <td>1</td>\n",
       "      <td>45904010059905904</td>\n",
       "    </tr>\n",
       "    <tr>\n",
       "      <th>673</th>\n",
       "      <td>Dependendo de quantos eu pegar vc me dar um de...</td>\n",
       "      <td>1</td>\n",
       "      <td>5356841107408620</td>\n",
       "    </tr>\n",
       "    <tr>\n",
       "      <th>678</th>\n",
       "      <td>É original ou não, pois vi uma crítica dizendo...</td>\n",
       "      <td>1</td>\n",
       "      <td>5384529936418220</td>\n",
       "    </tr>\n",
       "    <tr>\n",
       "      <th>690</th>\n",
       "      <td>E original mesmo da Apple ? Ou primeira linha ?</td>\n",
       "      <td>1</td>\n",
       "      <td>4923346456651700</td>\n",
       "    </tr>\n",
       "    <tr>\n",
       "      <th>698</th>\n",
       "      <td>Quando se pergunta se é original eles só dão b...</td>\n",
       "      <td>1</td>\n",
       "      <td>5029269209264880</td>\n",
       "    </tr>\n",
       "    <tr>\n",
       "      <th>...</th>\n",
       "      <td>...</td>\n",
       "      <td>...</td>\n",
       "      <td>...</td>\n",
       "    </tr>\n",
       "    <tr>\n",
       "      <th>1967</th>\n",
       "      <td>Boa noite, poderia me informar se vem com o ad...</td>\n",
       "      <td>1</td>\n",
       "      <td>671443009586574</td>\n",
       "    </tr>\n",
       "    <tr>\n",
       "      <th>1975</th>\n",
       "      <td>Cara gostaria de saber se o celular aceita est...</td>\n",
       "      <td>0</td>\n",
       "      <td>37476357048018000</td>\n",
       "    </tr>\n",
       "    <tr>\n",
       "      <th>1399</th>\n",
       "      <td>soma as horas?</td>\n",
       "      <td>0</td>\n",
       "      <td>1543500549964570</td>\n",
       "    </tr>\n",
       "    <tr>\n",
       "      <th>1628</th>\n",
       "      <td>Dura quantas limpezas (colocando a corrente de...</td>\n",
       "      <td>0</td>\n",
       "      <td>21377025391121100</td>\n",
       "    </tr>\n",
       "    <tr>\n",
       "      <th>675</th>\n",
       "      <td>na descrição do rosa está 08 de largura, e ess...</td>\n",
       "      <td>1</td>\n",
       "      <td>24249758841214000</td>\n",
       "    </tr>\n",
       "  </tbody>\n",
       "</table>\n",
       "<p>266 rows × 3 columns</p>\n",
       "</div>"
      ],
      "text/plain": [
       "                                              questions  label  \\\n",
       "671                         Serve para Camiseta Adulto?      1   \n",
       "673   Dependendo de quantos eu pegar vc me dar um de...      1   \n",
       "678   É original ou não, pois vi uma crítica dizendo...      1   \n",
       "690     E original mesmo da Apple ? Ou primeira linha ?      1   \n",
       "698   Quando se pergunta se é original eles só dão b...      1   \n",
       "...                                                 ...    ...   \n",
       "1967  Boa noite, poderia me informar se vem com o ad...      1   \n",
       "1975  Cara gostaria de saber se o celular aceita est...      0   \n",
       "1399                                     soma as horas?      0   \n",
       "1628  Dura quantas limpezas (colocando a corrente de...      0   \n",
       "675   na descrição do rosa está 08 de largura, e ess...      1   \n",
       "\n",
       "                      p  \n",
       "671   45904010059905904  \n",
       "673    5356841107408620  \n",
       "678    5384529936418220  \n",
       "690    4923346456651700  \n",
       "698    5029269209264880  \n",
       "...                 ...  \n",
       "1967    671443009586574  \n",
       "1975  37476357048018000  \n",
       "1399   1543500549964570  \n",
       "1628  21377025391121100  \n",
       "675   24249758841214000  \n",
       "\n",
       "[266 rows x 3 columns]"
      ]
     },
     "execution_count": 27,
     "metadata": {},
     "output_type": "execute_result"
    }
   ],
   "source": [
    "df_active"
   ]
  },
  {
   "cell_type": "code",
   "execution_count": 23,
   "metadata": {},
   "outputs": [],
   "source": [
    "df_labeled = df_all.copy()"
   ]
  },
  {
   "cell_type": "code",
   "execution_count": 48,
   "metadata": {},
   "outputs": [
    {
     "data": {
      "text/plain": [
       "<pandas.core.indexing._iLocIndexer at 0x7f29ad5151d8>"
      ]
     },
     "execution_count": 48,
     "metadata": {},
     "output_type": "execute_result"
    }
   ],
   "source": [
    "df_active.iloc"
   ]
  },
  {
   "cell_type": "code",
   "execution_count": 49,
   "metadata": {},
   "outputs": [],
   "source": [
    "for i,index in enumerate(df_active.index):\n",
    "    df_labeled.iloc[index] = df_active.iloc[i]"
   ]
  },
  {
   "cell_type": "code",
   "execution_count": 54,
   "metadata": {},
   "outputs": [],
   "source": [
    "df_labeled.dropna(inplace=True)"
   ]
  },
  {
   "cell_type": "code",
   "execution_count": 57,
   "metadata": {},
   "outputs": [],
   "source": [
    "df_labeled.to_csv('./csv_files/active_plus_labeling.csv')"
   ]
  },
  {
   "cell_type": "code",
   "execution_count": 71,
   "metadata": {},
   "outputs": [
    {
     "name": "stdout",
     "output_type": "stream",
     "text": [
      "olist    100\n",
      "Name: branded_store_slug, dtype: int64\n",
      "\n",
      " product    100\n",
      "Name: reference_type, dtype: int64\n",
      "\n",
      " Anonimizado LGPD    100\n",
      "Name: channel_customer_id, dtype: int64\n",
      "\n",
      " Anonimizado LGPD    100\n",
      "Name: channel_customer_name, dtype: int64\n"
     ]
    }
   ],
   "source": [
    "print(df_sample.branded_store_slug.value_counts())\n",
    "print('\\n',df_sample.reference_type.value_counts())\n",
    "print('\\n',df_sample.channel_customer_id.value_counts())\n",
    "print('\\n',df_sample.channel_customer_name.value_counts())\n"
   ]
  },
  {
   "cell_type": "code",
   "execution_count": 80,
   "metadata": {},
   "outputs": [],
   "source": [
    "df_sample.drop(['branded_store_slug', 'reference_type', 'channel_customer_id', 'channel_customer_name', 'reported_at'], axis=1,inplace=True)"
   ]
  },
  {
   "cell_type": "code",
   "execution_count": 83,
   "metadata": {},
   "outputs": [],
   "source": [
    "df_sample.to_csv('./csv_files/sample_cleaned.csv')"
   ]
  },
  {
   "cell_type": "code",
   "execution_count": 93,
   "metadata": {},
   "outputs": [
    {
     "data": {
      "text/plain": [
       "<matplotlib.axes._subplots.AxesSubplot at 0x7f299f5f03c8>"
      ]
     },
     "execution_count": 93,
     "metadata": {},
     "output_type": "execute_result"
    },
    {
     "data": {
      "image/png": "[encoded data removed]",
      "text/plain": [
       "<Figure size 576x432 with 1 Axes>"
      ]
     },
     "metadata": {
      "needs_background": "light"
     },
     "output_type": "display_data"
    }
   ],
   "source": [
    "plt.figure(figsize=(8,6))\n",
    "sns.countplot(x=df_labeled.label)"
   ]
  },
  {
   "cell_type": "code",
   "execution_count": 95,
   "metadata": {},
   "outputs": [
    {
     "data": {
      "text/plain": [
       "(353, 565)"
      ]
     },
     "execution_count": 95,
     "metadata": {},
     "output_type": "execute_result"
    }
   ],
   "source": [
    "len(df_labeled[df_labeled.label==1]), len(df_labeled[df_labeled.label==0])"
   ]
  },
  {
   "cell_type": "code",
   "execution_count": 175,
   "metadata": {},
   "outputs": [],
   "source": [
    "from sklearn.feature_extraction.text import TfidfVectorizer\n",
    "from sklearn.model_selection import train_test_split\n",
    "from sklearn.linear_model import LogisticRegression\n",
    "from sklearn.ensemble import RandomForestClassifier\n",
    "from sklearn.metrics import roc_auc_score, average_precision_score, confusion_matrix, classification_report, f1_score, precision_score, recall_score"
   ]
  },
  {
   "cell_type": "code",
   "execution_count": 97,
   "metadata": {},
   "outputs": [],
   "source": [
    "## Create simple model to analyse"
   ]
  },
  {
   "cell_type": "code",
   "execution_count": 130,
   "metadata": {},
   "outputs": [],
   "source": [
    "X_train, X_val, y_train, y_val = train_test_split(df_labeled.questions, df_labeled.label, random_state=0, test_size=0.4)"
   ]
  },
  {
   "cell_type": "code",
   "execution_count": 137,
   "metadata": {},
   "outputs": [],
   "source": [
    "X_val = [item for item in X_val if not isinstance(item, int)]"
   ]
  },
  {
   "cell_type": "code",
   "execution_count": 138,
   "metadata": {},
   "outputs": [],
   "source": [
    "vectorizer = TfidfVectorizer(min_df=2)\n",
    "X_train_bow = vectorizer.fit_transform(X_train)\n",
    "X_val_bow = vectorizer.transform(X_val)"
   ]
  },
  {
   "cell_type": "code",
   "execution_count": 139,
   "metadata": {},
   "outputs": [
    {
     "data": {
      "text/plain": [
       "RandomForestClassifier(bootstrap=True, ccp_alpha=0.0, class_weight='balanced',\n",
       "                       criterion='gini', max_depth=None, max_features='auto',\n",
       "                       max_leaf_nodes=None, max_samples=None,\n",
       "                       min_impurity_decrease=0.0, min_impurity_split=None,\n",
       "                       min_samples_leaf=1, min_samples_split=2,\n",
       "                       min_weight_fraction_leaf=0.0, n_estimators=1000,\n",
       "                       n_jobs=None, oob_score=False, random_state=0, verbose=0,\n",
       "                       warm_start=False)"
      ]
     },
     "execution_count": 139,
     "metadata": {},
     "output_type": "execute_result"
    }
   ],
   "source": [
    "mdl = RandomForestClassifier(n_estimators=1000,random_state=0, class_weight='balanced')\n",
    "mdl.fit(X_train_bow,y_train)"
   ]
  },
  {
   "cell_type": "code",
   "execution_count": 140,
   "metadata": {},
   "outputs": [],
   "source": [
    "p = mdl.predict(X_val_bow)\n",
    "proba = mdl.predict_proba(X_val_bow)[:,0]"
   ]
  },
  {
   "cell_type": "code",
   "execution_count": 160,
   "metadata": {},
   "outputs": [],
   "source": [
    "X_sample_bow = vectorizer.transform(df_sample.body)\n",
    "p_sample = mdl.predict(X_sample_bow)\n",
    "proba_sample = mdl.predict_proba(X_sample_bow)[:,0]"
   ]
  },
  {
   "cell_type": "code",
   "execution_count": 161,
   "metadata": {},
   "outputs": [
    {
     "data": {
      "text/plain": [
       "array([0.71663214, 0.78649802, 0.47854592, 0.6652382 , 0.95471556,\n",
       "       0.64209243, 0.78254649, 0.89618752, 0.56148362, 0.61890046,\n",
       "       0.58002418, 0.83034727, 0.98313058, 0.63730124, 0.64410413,\n",
       "       0.55130301, 0.56784568, 0.79239508, 0.65119159, 0.80564752,\n",
       "       0.8       , 0.37813602, 0.4346141 , 0.776     , 0.84803373,\n",
       "       0.6265598 , 0.76569147, 0.45184069, 0.69922648, 0.61635074,\n",
       "       0.32033372, 0.476     , 0.77772039, 0.77672598, 0.69922648,\n",
       "       0.56672891, 0.88169935, 0.75356237, 0.77491129, 0.8626907 ,\n",
       "       0.47176596, 0.74978979, 0.68665653, 0.52125068, 0.9535536 ,\n",
       "       0.84898153, 0.72558473, 0.41795444, 0.40579578, 0.38140867,\n",
       "       0.96732427, 0.94853012, 0.47386727, 0.466     , 0.52125068,\n",
       "       0.64046061, 0.59293016, 0.84596883, 0.80426558, 0.76987364,\n",
       "       0.58658527, 0.4713735 , 0.49087882, 0.5910127 , 0.66124781,\n",
       "       0.84768847, 0.61357945, 0.61357945, 0.40009515, 0.521551  ,\n",
       "       0.90742905, 0.69787436, 0.35816434, 0.59656154, 0.55334453,\n",
       "       0.98340645, 0.87610152, 0.719     , 0.90586853, 0.62174844,\n",
       "       0.41295408, 0.67980148, 0.89301927, 0.36328285, 0.41939825,\n",
       "       0.78187865, 0.2711335 , 0.2711335 , 0.92341482, 0.94853012,\n",
       "       0.7908353 , 0.64950071, 0.91049708, 0.96094668, 0.98340645,\n",
       "       0.75956856, 0.4477614 , 0.71758309, 0.99192058, 0.29533743])"
      ]
     },
     "execution_count": 161,
     "metadata": {},
     "output_type": "execute_result"
    }
   ],
   "source": [
    "proba_sample"
   ]
  },
  {
   "cell_type": "code",
   "execution_count": 309,
   "metadata": {},
   "outputs": [],
   "source": [
    "df_edited = pd.read_csv('./csv_files/edited_csv.csv', index_col=0)"
   ]
  },
  {
   "cell_type": "code",
   "execution_count": 214,
   "metadata": {},
   "outputs": [],
   "source": [
    "X_train, X_val, y_train, y_val = train_test_split(df_edited.questions, df_edited.label, random_state=0, test_size=0.4)"
   ]
  },
  {
   "cell_type": "code",
   "execution_count": 215,
   "metadata": {},
   "outputs": [],
   "source": [
    "vectorizer = TfidfVectorizer(min_df=2,lowercase=False)\n",
    "X_train_bow = vectorizer.fit_transform(X_train)\n",
    "X_val_bow = vectorizer.transform(X_val)"
   ]
  },
  {
   "cell_type": "code",
   "execution_count": 216,
   "metadata": {},
   "outputs": [
    {
     "data": {
      "text/plain": [
       "RandomForestClassifier(bootstrap=True, ccp_alpha=0.0, class_weight='balanced',\n",
       "                       criterion='gini', max_depth=None, max_features='auto',\n",
       "                       max_leaf_nodes=None, max_samples=None,\n",
       "                       min_impurity_decrease=0.0, min_impurity_split=None,\n",
       "                       min_samples_leaf=1, min_samples_split=2,\n",
       "                       min_weight_fraction_leaf=0.0, n_estimators=1000,\n",
       "                       n_jobs=None, oob_score=False, random_state=0, verbose=0,\n",
       "                       warm_start=False)"
      ]
     },
     "execution_count": 216,
     "metadata": {},
     "output_type": "execute_result"
    }
   ],
   "source": [
    "mdl = RandomForestClassifier(n_estimators=1000,random_state=0, class_weight='balanced')\n",
    "mdl.fit(X_train_bow,y_train)"
   ]
  },
  {
   "cell_type": "code",
   "execution_count": 217,
   "metadata": {},
   "outputs": [],
   "source": [
    "p = mdl.predict(X_val_bow)\n",
    "proba = mdl.predict_proba(X_val_bow)[:,0]"
   ]
  },
  {
   "cell_type": "markdown",
   "metadata": {},
   "source": [
    "# 1.0 BASELINE"
   ]
  },
  {
   "cell_type": "code",
   "execution_count": null,
   "metadata": {},
   "outputs": [],
   "source": [
    "recall_score(y_val,p)"
   ]
  },
  {
   "cell_type": "code",
   "execution_count": 218,
   "metadata": {},
   "outputs": [
    {
     "name": "stdout",
     "output_type": "stream",
     "text": [
      "              precision    recall  f1-score   support\n",
      "\n",
      "         0.0       0.72      0.66      0.69       176\n",
      "         1.0       0.71      0.77      0.74       192\n",
      "\n",
      "    accuracy                           0.71       368\n",
      "   macro avg       0.72      0.71      0.71       368\n",
      "weighted avg       0.72      0.71      0.71       368\n",
      "\n"
     ]
    }
   ],
   "source": [
    "print(classification_report(y_val,p))"
   ]
  },
  {
   "cell_type": "code",
   "execution_count": 220,
   "metadata": {},
   "outputs": [
    {
     "data": {
      "text/plain": [
       "0.765625"
      ]
     },
     "execution_count": 220,
     "metadata": {},
     "output_type": "execute_result"
    }
   ],
   "source": [
    "recall_score(y_val,p)"
   ]
  },
  {
   "cell_type": "code",
   "execution_count": 221,
   "metadata": {},
   "outputs": [
    {
     "name": "stdout",
     "output_type": "stream",
     "text": [
      "[[116  60]\n",
      " [ 45 147]]\n"
     ]
    }
   ],
   "source": [
    "print(confusion_matrix(y_val,p))"
   ]
  },
  {
   "cell_type": "code",
   "execution_count": 226,
   "metadata": {},
   "outputs": [
    {
     "data": {
      "text/plain": [
       "(0.2096206202651515, 0.3666499003583017)"
      ]
     },
     "execution_count": 226,
     "metadata": {},
     "output_type": "execute_result"
    }
   ],
   "source": [
    "# AUC e AP\n",
    "roc_auc_score(y_val,proba), average_precision_score(y_val,proba)"
   ]
  },
  {
   "cell_type": "markdown",
   "metadata": {},
   "source": [
    "# 1.1 - BASELINE K-FOLD"
   ]
  },
  {
   "cell_type": "code",
   "execution_count": 229,
   "metadata": {},
   "outputs": [],
   "source": [
    "from sklearn.model_selection import KFold"
   ]
  },
  {
   "cell_type": "code",
   "execution_count": 276,
   "metadata": {},
   "outputs": [],
   "source": [
    "kf = KFold(n_splits=3, shuffle=True, random_state=0)\n",
    "X=df_edited.questions\n",
    "y=df_edited.label"
   ]
  },
  {
   "cell_type": "code",
   "execution_count": null,
   "metadata": {},
   "outputs": [],
   "source": [
    "metrics = {\n",
    "    'precision': [],\n",
    "    'recall': [],\n",
    "    'roc_auc': [],\n",
    "    'ap': []\n",
    "}\n",
    "for lines_train, lines_val in kf.split(X):\n",
    "    X_train, X_val = X.iloc[lines_train], X.iloc[lines_val]\n",
    "    y_train, y_val = y.iloc[lines_train], y.iloc[lines_val]\n",
    "   \n",
    "\n",
    "    vectorizer = TfidfVectorizer(min_df=2,lowercase=False)\n",
    "    X_train_bow = vectorizer.fit_transform(X_train)\n",
    "    X_val_bow = vectorizer.transform(X_val)\n",
    "    \n",
    "    mdl = RandomForestClassifier(n_estimators=1000,random_state=0, class_weight='balanced')\n",
    "    mdl.fit(X_train_bow, y_train)\n",
    "    \n",
    "    p = mdl.predict(X_val_bow)\n",
    "    proba = mdl.predict_proba(X_val_bow)[:,0]\n",
    "    \n",
    "    \n",
    "    metrics['precision'].append(precision_score(y_val,p))\n",
    "    metrics['recall'].append(recall_score(y_val,p))\n",
    "    metrics['roc_auc'].append(roc_auc_score(y_val,proba))\n",
    "    metrics['ap'].append(average_precision_score(y_val,proba))\n",
    "  \n",
    "    \n",
    "    \n"
   ]
  },
  {
   "cell_type": "code",
   "execution_count": 297,
   "metadata": {},
   "outputs": [],
   "source": [
    "metrics_mean = {\n",
    "    'precision': None,\n",
    "    'recall': None,\n",
    "    'roc_auc': None,\n",
    "    'ap':None\n",
    "}"
   ]
  },
  {
   "cell_type": "code",
   "execution_count": 298,
   "metadata": {},
   "outputs": [],
   "source": [
    "\n",
    "metrics_mean['precision'] = np.mean(metrics['precision'])\n",
    "metrics_mean['recall'] = np.mean(metrics['recall'])\n",
    "metrics_mean['roc_auc'] = np.mean(metrics['roc_auc'])\n",
    "metrics_mean['ap'] = np.mean(metrics['ap'])"
   ]
  },
  {
   "cell_type": "code",
   "execution_count": 299,
   "metadata": {},
   "outputs": [
    {
     "data": {
      "text/plain": [
       "{'precision': 0.7547363144333373,\n",
       " 'recall': 0.7329547231991064,\n",
       " 'roc_auc': 0.20201604635329962,\n",
       " 'ap': 0.3895155248988884}"
      ]
     },
     "execution_count": 299,
     "metadata": {},
     "output_type": "execute_result"
    }
   ],
   "source": [
    "metrics_mean"
   ]
  },
  {
   "cell_type": "code",
   "execution_count": 287,
   "metadata": {},
   "outputs": [],
   "source": [
    "mean_dict = {\n",
    "    'precision': [],\n",
    "    'recall': [],\n",
    "    'roc_auc': [],\n",
    "    'ap': []               \n",
    "}\n",
    "for e in metrics:\n",
    "    mean_dict['precision'].append(e['precision'])\n",
    "    mean_dict['recall'].append(e['recall'])\n",
    "    mean_dict['roc_auc'].append(e['roc_auc'])\n",
    "    mean_dict['ap'].append(e['ap'])\n",
    "        "
   ]
  },
  {
   "cell_type": "code",
   "execution_count": 308,
   "metadata": {},
   "outputs": [
    {
     "name": "stdin",
     "output_type": "stream",
     "text": [
      " Esse ai é 50cm?\n"
     ]
    },
    {
     "name": "stdout",
     "output_type": "stream",
     "text": [
      "Previsão para a pergunta:  0\n"
     ]
    }
   ],
   "source": [
    "x = [input()]\n",
    "x_vec = vectorizer.transform(x)\n",
    "p = mdl.predict(x_vec)\n",
    "\n",
    "print('Previsão para a pergunta: ', int(p[0]))"
   ]
  },
  {
   "cell_type": "code",
   "execution_count": null,
   "metadata": {},
   "outputs": [],
   "source": []
  }
 ],
 "metadata": {
  "kernelspec": {
   "display_name": "Python 3",
   "language": "python",
   "name": "python3"
  },
  "language_info": {
   "codemirror_mode": {
    "name": "ipython",
    "version": 3
   },
   "file_extension": ".py",
   "mimetype": "text/x-python",
   "name": "python",
   "nbconvert_exporter": "python",
   "pygments_lexer": "ipython3",
   "version": "3.6.9"
  }
 },
 "nbformat": 4,
 "nbformat_minor": 4
}
